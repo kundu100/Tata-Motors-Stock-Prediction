{
 "cells": [
  {
   "cell_type": "code",
   "execution_count": 1,
   "metadata": {
    "id": "a50qpF1Wb6wD"
   },
   "outputs": [],
   "source": [
    "from datetime import datetime\n",
    "import numpy as np\n",
    "import warnings\n",
    "import matplotlib.pyplot as plt\n",
    "import pandas as pd\n",
    "import seaborn as sns\n",
    "warnings.filterwarnings('ignore')"
   ]
  },
  {
   "cell_type": "code",
   "execution_count": 103,
   "metadata": {
    "id": "9F3GKEkVb7fy"
   },
   "outputs": [
    {
     "data": {
      "text/html": [
       "<div>\n",
       "<style scoped>\n",
       "    .dataframe tbody tr th:only-of-type {\n",
       "        vertical-align: middle;\n",
       "    }\n",
       "\n",
       "    .dataframe tbody tr th {\n",
       "        vertical-align: top;\n",
       "    }\n",
       "\n",
       "    .dataframe thead th {\n",
       "        text-align: right;\n",
       "    }\n",
       "</style>\n",
       "<table border=\"1\" class=\"dataframe\">\n",
       "  <thead>\n",
       "    <tr style=\"text-align: right;\">\n",
       "      <th></th>\n",
       "      <th>Date</th>\n",
       "      <th>Price</th>\n",
       "    </tr>\n",
       "  </thead>\n",
       "  <tbody>\n",
       "    <tr>\n",
       "      <th>0</th>\n",
       "      <td>11/11/24</td>\n",
       "      <td>804.7</td>\n",
       "    </tr>\n",
       "    <tr>\n",
       "      <th>1</th>\n",
       "      <td>8/11/24</td>\n",
       "      <td>805.45</td>\n",
       "    </tr>\n",
       "    <tr>\n",
       "      <th>2</th>\n",
       "      <td>7/11/24</td>\n",
       "      <td>819.75</td>\n",
       "    </tr>\n",
       "    <tr>\n",
       "      <th>3</th>\n",
       "      <td>6/11/24</td>\n",
       "      <td>839.7</td>\n",
       "    </tr>\n",
       "    <tr>\n",
       "      <th>4</th>\n",
       "      <td>5/11/24</td>\n",
       "      <td>835.65</td>\n",
       "    </tr>\n",
       "    <tr>\n",
       "      <th>5</th>\n",
       "      <td>4/11/24</td>\n",
       "      <td>824.1</td>\n",
       "    </tr>\n",
       "    <tr>\n",
       "      <th>6</th>\n",
       "      <td>1/11/24</td>\n",
       "      <td>843.45</td>\n",
       "    </tr>\n",
       "    <tr>\n",
       "      <th>7</th>\n",
       "      <td>31-10-2024</td>\n",
       "      <td>834.05</td>\n",
       "    </tr>\n",
       "    <tr>\n",
       "      <th>8</th>\n",
       "      <td>30-10-2024</td>\n",
       "      <td>840.2</td>\n",
       "    </tr>\n",
       "    <tr>\n",
       "      <th>9</th>\n",
       "      <td>29-10-2024</td>\n",
       "      <td>842.75</td>\n",
       "    </tr>\n",
       "    <tr>\n",
       "      <th>10</th>\n",
       "      <td>28-10-2024</td>\n",
       "      <td>878.45</td>\n",
       "    </tr>\n",
       "    <tr>\n",
       "      <th>11</th>\n",
       "      <td>25-10-2024</td>\n",
       "      <td>864.3</td>\n",
       "    </tr>\n",
       "    <tr>\n",
       "      <th>12</th>\n",
       "      <td>24-10-2024</td>\n",
       "      <td>880</td>\n",
       "    </tr>\n",
       "    <tr>\n",
       "      <th>13</th>\n",
       "      <td>23-10-2024</td>\n",
       "      <td>877.65</td>\n",
       "    </tr>\n",
       "    <tr>\n",
       "      <th>14</th>\n",
       "      <td>22-10-2024</td>\n",
       "      <td>879.5</td>\n",
       "    </tr>\n",
       "  </tbody>\n",
       "</table>\n",
       "</div>"
      ],
      "text/plain": [
       "          Date   Price\n",
       "0     11/11/24   804.7\n",
       "1      8/11/24  805.45\n",
       "2      7/11/24  819.75\n",
       "3      6/11/24   839.7\n",
       "4      5/11/24  835.65\n",
       "5      4/11/24   824.1\n",
       "6      1/11/24  843.45\n",
       "7   31-10-2024  834.05\n",
       "8   30-10-2024   840.2\n",
       "9   29-10-2024  842.75\n",
       "10  28-10-2024  878.45\n",
       "11  25-10-2024   864.3\n",
       "12  24-10-2024     880\n",
       "13  23-10-2024  877.65\n",
       "14  22-10-2024   879.5"
      ]
     },
     "execution_count": 103,
     "metadata": {},
     "output_type": "execute_result"
    }
   ],
   "source": [
    "data=pd.read_csv(r\"C:\\Users\\LENOVO\\OneDrive\\Desktop\\IntelliPaat\\EDA CSV files\\TAMO Historical Data.csv\")\n",
    "data.head(15)\n",
    "\n",
    "# Data for Tata Motors was downloaded from monecontrol.com on 11 Nov 2024. "
   ]
  },
  {
   "cell_type": "code",
   "execution_count": 104,
   "metadata": {},
   "outputs": [
    {
     "name": "stdout",
     "output_type": "stream",
     "text": [
      "<class 'pandas.core.frame.DataFrame'>\n",
      "RangeIndex: 958 entries, 0 to 957\n",
      "Data columns (total 2 columns):\n",
      " #   Column  Non-Null Count  Dtype \n",
      "---  ------  --------------  ----- \n",
      " 0   Date    958 non-null    object\n",
      " 1   Price   958 non-null    object\n",
      "dtypes: object(2)\n",
      "memory usage: 15.1+ KB\n"
     ]
    }
   ],
   "source": [
    "data.info()"
   ]
  },
  {
   "cell_type": "code",
   "execution_count": 105,
   "metadata": {},
   "outputs": [],
   "source": [
    "data['Date']=data['Date'].str.replace('/','-')"
   ]
  },
  {
   "cell_type": "code",
   "execution_count": 106,
   "metadata": {},
   "outputs": [
    {
     "data": {
      "text/html": [
       "<div>\n",
       "<style scoped>\n",
       "    .dataframe tbody tr th:only-of-type {\n",
       "        vertical-align: middle;\n",
       "    }\n",
       "\n",
       "    .dataframe tbody tr th {\n",
       "        vertical-align: top;\n",
       "    }\n",
       "\n",
       "    .dataframe thead th {\n",
       "        text-align: right;\n",
       "    }\n",
       "</style>\n",
       "<table border=\"1\" class=\"dataframe\">\n",
       "  <thead>\n",
       "    <tr style=\"text-align: right;\">\n",
       "      <th></th>\n",
       "      <th>Date</th>\n",
       "      <th>Price</th>\n",
       "    </tr>\n",
       "  </thead>\n",
       "  <tbody>\n",
       "    <tr>\n",
       "      <th>0</th>\n",
       "      <td>11-11-24</td>\n",
       "      <td>804.7</td>\n",
       "    </tr>\n",
       "    <tr>\n",
       "      <th>1</th>\n",
       "      <td>8-11-24</td>\n",
       "      <td>805.45</td>\n",
       "    </tr>\n",
       "    <tr>\n",
       "      <th>2</th>\n",
       "      <td>7-11-24</td>\n",
       "      <td>819.75</td>\n",
       "    </tr>\n",
       "    <tr>\n",
       "      <th>3</th>\n",
       "      <td>6-11-24</td>\n",
       "      <td>839.7</td>\n",
       "    </tr>\n",
       "    <tr>\n",
       "      <th>4</th>\n",
       "      <td>5-11-24</td>\n",
       "      <td>835.65</td>\n",
       "    </tr>\n",
       "    <tr>\n",
       "      <th>5</th>\n",
       "      <td>4-11-24</td>\n",
       "      <td>824.1</td>\n",
       "    </tr>\n",
       "    <tr>\n",
       "      <th>6</th>\n",
       "      <td>1-11-24</td>\n",
       "      <td>843.45</td>\n",
       "    </tr>\n",
       "    <tr>\n",
       "      <th>7</th>\n",
       "      <td>31-10-2024</td>\n",
       "      <td>834.05</td>\n",
       "    </tr>\n",
       "    <tr>\n",
       "      <th>8</th>\n",
       "      <td>30-10-2024</td>\n",
       "      <td>840.2</td>\n",
       "    </tr>\n",
       "    <tr>\n",
       "      <th>9</th>\n",
       "      <td>29-10-2024</td>\n",
       "      <td>842.75</td>\n",
       "    </tr>\n",
       "    <tr>\n",
       "      <th>10</th>\n",
       "      <td>28-10-2024</td>\n",
       "      <td>878.45</td>\n",
       "    </tr>\n",
       "    <tr>\n",
       "      <th>11</th>\n",
       "      <td>25-10-2024</td>\n",
       "      <td>864.3</td>\n",
       "    </tr>\n",
       "    <tr>\n",
       "      <th>12</th>\n",
       "      <td>24-10-2024</td>\n",
       "      <td>880</td>\n",
       "    </tr>\n",
       "    <tr>\n",
       "      <th>13</th>\n",
       "      <td>23-10-2024</td>\n",
       "      <td>877.65</td>\n",
       "    </tr>\n",
       "    <tr>\n",
       "      <th>14</th>\n",
       "      <td>22-10-2024</td>\n",
       "      <td>879.5</td>\n",
       "    </tr>\n",
       "    <tr>\n",
       "      <th>15</th>\n",
       "      <td>21-10-2024</td>\n",
       "      <td>903.3</td>\n",
       "    </tr>\n",
       "    <tr>\n",
       "      <th>16</th>\n",
       "      <td>18-10-2024</td>\n",
       "      <td>910.15</td>\n",
       "    </tr>\n",
       "    <tr>\n",
       "      <th>17</th>\n",
       "      <td>17-10-2024</td>\n",
       "      <td>891.6</td>\n",
       "    </tr>\n",
       "    <tr>\n",
       "      <th>18</th>\n",
       "      <td>16-10-2024</td>\n",
       "      <td>907.45</td>\n",
       "    </tr>\n",
       "    <tr>\n",
       "      <th>19</th>\n",
       "      <td>15-10-2024</td>\n",
       "      <td>917.3</td>\n",
       "    </tr>\n",
       "  </tbody>\n",
       "</table>\n",
       "</div>"
      ],
      "text/plain": [
       "          Date   Price\n",
       "0     11-11-24   804.7\n",
       "1      8-11-24  805.45\n",
       "2      7-11-24  819.75\n",
       "3      6-11-24   839.7\n",
       "4      5-11-24  835.65\n",
       "5      4-11-24   824.1\n",
       "6      1-11-24  843.45\n",
       "7   31-10-2024  834.05\n",
       "8   30-10-2024   840.2\n",
       "9   29-10-2024  842.75\n",
       "10  28-10-2024  878.45\n",
       "11  25-10-2024   864.3\n",
       "12  24-10-2024     880\n",
       "13  23-10-2024  877.65\n",
       "14  22-10-2024   879.5\n",
       "15  21-10-2024   903.3\n",
       "16  18-10-2024  910.15\n",
       "17  17-10-2024   891.6\n",
       "18  16-10-2024  907.45\n",
       "19  15-10-2024   917.3"
      ]
     },
     "execution_count": 106,
     "metadata": {},
     "output_type": "execute_result"
    }
   ],
   "source": [
    "data.head(20)"
   ]
  },
  {
   "cell_type": "code",
   "execution_count": 108,
   "metadata": {},
   "outputs": [],
   "source": [
    "data['Date']= data['Date'].apply(lambda x: datetime.strptime(x, \"%d-%m-%y\") if len(x)<=8 else datetime.strptime(x, \"%d-%m-%Y\"))"
   ]
  },
  {
   "cell_type": "code",
   "execution_count": 109,
   "metadata": {},
   "outputs": [
    {
     "data": {
      "text/html": [
       "<div>\n",
       "<style scoped>\n",
       "    .dataframe tbody tr th:only-of-type {\n",
       "        vertical-align: middle;\n",
       "    }\n",
       "\n",
       "    .dataframe tbody tr th {\n",
       "        vertical-align: top;\n",
       "    }\n",
       "\n",
       "    .dataframe thead th {\n",
       "        text-align: right;\n",
       "    }\n",
       "</style>\n",
       "<table border=\"1\" class=\"dataframe\">\n",
       "  <thead>\n",
       "    <tr style=\"text-align: right;\">\n",
       "      <th></th>\n",
       "      <th>Date</th>\n",
       "      <th>Price</th>\n",
       "    </tr>\n",
       "  </thead>\n",
       "  <tbody>\n",
       "    <tr>\n",
       "      <th>0</th>\n",
       "      <td>2024-11-11</td>\n",
       "      <td>804.7</td>\n",
       "    </tr>\n",
       "    <tr>\n",
       "      <th>1</th>\n",
       "      <td>2024-11-08</td>\n",
       "      <td>805.45</td>\n",
       "    </tr>\n",
       "    <tr>\n",
       "      <th>2</th>\n",
       "      <td>2024-11-07</td>\n",
       "      <td>819.75</td>\n",
       "    </tr>\n",
       "    <tr>\n",
       "      <th>3</th>\n",
       "      <td>2024-11-06</td>\n",
       "      <td>839.7</td>\n",
       "    </tr>\n",
       "    <tr>\n",
       "      <th>4</th>\n",
       "      <td>2024-11-05</td>\n",
       "      <td>835.65</td>\n",
       "    </tr>\n",
       "    <tr>\n",
       "      <th>...</th>\n",
       "      <td>...</td>\n",
       "      <td>...</td>\n",
       "    </tr>\n",
       "    <tr>\n",
       "      <th>953</th>\n",
       "      <td>2021-01-07</td>\n",
       "      <td>196.75</td>\n",
       "    </tr>\n",
       "    <tr>\n",
       "      <th>954</th>\n",
       "      <td>2021-01-06</td>\n",
       "      <td>195.4</td>\n",
       "    </tr>\n",
       "    <tr>\n",
       "      <th>955</th>\n",
       "      <td>2021-01-05</td>\n",
       "      <td>193.2</td>\n",
       "    </tr>\n",
       "    <tr>\n",
       "      <th>956</th>\n",
       "      <td>2021-01-04</td>\n",
       "      <td>191.3</td>\n",
       "    </tr>\n",
       "    <tr>\n",
       "      <th>957</th>\n",
       "      <td>2021-01-01</td>\n",
       "      <td>186.5</td>\n",
       "    </tr>\n",
       "  </tbody>\n",
       "</table>\n",
       "<p>958 rows × 2 columns</p>\n",
       "</div>"
      ],
      "text/plain": [
       "          Date   Price\n",
       "0   2024-11-11   804.7\n",
       "1   2024-11-08  805.45\n",
       "2   2024-11-07  819.75\n",
       "3   2024-11-06   839.7\n",
       "4   2024-11-05  835.65\n",
       "..         ...     ...\n",
       "953 2021-01-07  196.75\n",
       "954 2021-01-06   195.4\n",
       "955 2021-01-05   193.2\n",
       "956 2021-01-04   191.3\n",
       "957 2021-01-01   186.5\n",
       "\n",
       "[958 rows x 2 columns]"
      ]
     },
     "execution_count": 109,
     "metadata": {},
     "output_type": "execute_result"
    }
   ],
   "source": [
    "data['Date']=pd.to_datetime(data['Date'])\n",
    "data"
   ]
  },
  {
   "cell_type": "code",
   "execution_count": 110,
   "metadata": {},
   "outputs": [],
   "source": [
    "data['month']=data['Date'].dt.month"
   ]
  },
  {
   "cell_type": "code",
   "execution_count": 111,
   "metadata": {},
   "outputs": [
    {
     "data": {
      "text/html": [
       "<div>\n",
       "<style scoped>\n",
       "    .dataframe tbody tr th:only-of-type {\n",
       "        vertical-align: middle;\n",
       "    }\n",
       "\n",
       "    .dataframe tbody tr th {\n",
       "        vertical-align: top;\n",
       "    }\n",
       "\n",
       "    .dataframe thead th {\n",
       "        text-align: right;\n",
       "    }\n",
       "</style>\n",
       "<table border=\"1\" class=\"dataframe\">\n",
       "  <thead>\n",
       "    <tr style=\"text-align: right;\">\n",
       "      <th></th>\n",
       "      <th>Date</th>\n",
       "      <th>Price</th>\n",
       "      <th>month</th>\n",
       "    </tr>\n",
       "  </thead>\n",
       "  <tbody>\n",
       "    <tr>\n",
       "      <th>0</th>\n",
       "      <td>2024-11-11</td>\n",
       "      <td>804.7</td>\n",
       "      <td>11</td>\n",
       "    </tr>\n",
       "    <tr>\n",
       "      <th>1</th>\n",
       "      <td>2024-11-08</td>\n",
       "      <td>805.45</td>\n",
       "      <td>11</td>\n",
       "    </tr>\n",
       "    <tr>\n",
       "      <th>2</th>\n",
       "      <td>2024-11-07</td>\n",
       "      <td>819.75</td>\n",
       "      <td>11</td>\n",
       "    </tr>\n",
       "    <tr>\n",
       "      <th>3</th>\n",
       "      <td>2024-11-06</td>\n",
       "      <td>839.7</td>\n",
       "      <td>11</td>\n",
       "    </tr>\n",
       "    <tr>\n",
       "      <th>4</th>\n",
       "      <td>2024-11-05</td>\n",
       "      <td>835.65</td>\n",
       "      <td>11</td>\n",
       "    </tr>\n",
       "    <tr>\n",
       "      <th>5</th>\n",
       "      <td>2024-11-04</td>\n",
       "      <td>824.1</td>\n",
       "      <td>11</td>\n",
       "    </tr>\n",
       "    <tr>\n",
       "      <th>6</th>\n",
       "      <td>2024-11-01</td>\n",
       "      <td>843.45</td>\n",
       "      <td>11</td>\n",
       "    </tr>\n",
       "    <tr>\n",
       "      <th>7</th>\n",
       "      <td>2024-10-31</td>\n",
       "      <td>834.05</td>\n",
       "      <td>10</td>\n",
       "    </tr>\n",
       "    <tr>\n",
       "      <th>8</th>\n",
       "      <td>2024-10-30</td>\n",
       "      <td>840.2</td>\n",
       "      <td>10</td>\n",
       "    </tr>\n",
       "    <tr>\n",
       "      <th>9</th>\n",
       "      <td>2024-10-29</td>\n",
       "      <td>842.75</td>\n",
       "      <td>10</td>\n",
       "    </tr>\n",
       "    <tr>\n",
       "      <th>10</th>\n",
       "      <td>2024-10-28</td>\n",
       "      <td>878.45</td>\n",
       "      <td>10</td>\n",
       "    </tr>\n",
       "    <tr>\n",
       "      <th>11</th>\n",
       "      <td>2024-10-25</td>\n",
       "      <td>864.3</td>\n",
       "      <td>10</td>\n",
       "    </tr>\n",
       "    <tr>\n",
       "      <th>12</th>\n",
       "      <td>2024-10-24</td>\n",
       "      <td>880</td>\n",
       "      <td>10</td>\n",
       "    </tr>\n",
       "    <tr>\n",
       "      <th>13</th>\n",
       "      <td>2024-10-23</td>\n",
       "      <td>877.65</td>\n",
       "      <td>10</td>\n",
       "    </tr>\n",
       "    <tr>\n",
       "      <th>14</th>\n",
       "      <td>2024-10-22</td>\n",
       "      <td>879.5</td>\n",
       "      <td>10</td>\n",
       "    </tr>\n",
       "    <tr>\n",
       "      <th>15</th>\n",
       "      <td>2024-10-21</td>\n",
       "      <td>903.3</td>\n",
       "      <td>10</td>\n",
       "    </tr>\n",
       "    <tr>\n",
       "      <th>16</th>\n",
       "      <td>2024-10-18</td>\n",
       "      <td>910.15</td>\n",
       "      <td>10</td>\n",
       "    </tr>\n",
       "    <tr>\n",
       "      <th>17</th>\n",
       "      <td>2024-10-17</td>\n",
       "      <td>891.6</td>\n",
       "      <td>10</td>\n",
       "    </tr>\n",
       "    <tr>\n",
       "      <th>18</th>\n",
       "      <td>2024-10-16</td>\n",
       "      <td>907.45</td>\n",
       "      <td>10</td>\n",
       "    </tr>\n",
       "    <tr>\n",
       "      <th>19</th>\n",
       "      <td>2024-10-15</td>\n",
       "      <td>917.3</td>\n",
       "      <td>10</td>\n",
       "    </tr>\n",
       "  </tbody>\n",
       "</table>\n",
       "</div>"
      ],
      "text/plain": [
       "         Date   Price  month\n",
       "0  2024-11-11   804.7     11\n",
       "1  2024-11-08  805.45     11\n",
       "2  2024-11-07  819.75     11\n",
       "3  2024-11-06   839.7     11\n",
       "4  2024-11-05  835.65     11\n",
       "5  2024-11-04   824.1     11\n",
       "6  2024-11-01  843.45     11\n",
       "7  2024-10-31  834.05     10\n",
       "8  2024-10-30   840.2     10\n",
       "9  2024-10-29  842.75     10\n",
       "10 2024-10-28  878.45     10\n",
       "11 2024-10-25   864.3     10\n",
       "12 2024-10-24     880     10\n",
       "13 2024-10-23  877.65     10\n",
       "14 2024-10-22   879.5     10\n",
       "15 2024-10-21   903.3     10\n",
       "16 2024-10-18  910.15     10\n",
       "17 2024-10-17   891.6     10\n",
       "18 2024-10-16  907.45     10\n",
       "19 2024-10-15   917.3     10"
      ]
     },
     "execution_count": 111,
     "metadata": {},
     "output_type": "execute_result"
    }
   ],
   "source": [
    "data.head(20)"
   ]
  },
  {
   "cell_type": "code",
   "execution_count": 112,
   "metadata": {},
   "outputs": [
    {
     "data": {
      "text/html": [
       "<div>\n",
       "<style scoped>\n",
       "    .dataframe tbody tr th:only-of-type {\n",
       "        vertical-align: middle;\n",
       "    }\n",
       "\n",
       "    .dataframe tbody tr th {\n",
       "        vertical-align: top;\n",
       "    }\n",
       "\n",
       "    .dataframe thead th {\n",
       "        text-align: right;\n",
       "    }\n",
       "</style>\n",
       "<table border=\"1\" class=\"dataframe\">\n",
       "  <thead>\n",
       "    <tr style=\"text-align: right;\">\n",
       "      <th></th>\n",
       "      <th>Date</th>\n",
       "      <th>Price</th>\n",
       "    </tr>\n",
       "  </thead>\n",
       "  <tbody>\n",
       "    <tr>\n",
       "      <th>0</th>\n",
       "      <td>2024-11-11</td>\n",
       "      <td>804.7</td>\n",
       "    </tr>\n",
       "    <tr>\n",
       "      <th>1</th>\n",
       "      <td>2024-11-08</td>\n",
       "      <td>805.45</td>\n",
       "    </tr>\n",
       "    <tr>\n",
       "      <th>2</th>\n",
       "      <td>2024-11-07</td>\n",
       "      <td>819.75</td>\n",
       "    </tr>\n",
       "    <tr>\n",
       "      <th>3</th>\n",
       "      <td>2024-11-06</td>\n",
       "      <td>839.7</td>\n",
       "    </tr>\n",
       "    <tr>\n",
       "      <th>4</th>\n",
       "      <td>2024-11-05</td>\n",
       "      <td>835.65</td>\n",
       "    </tr>\n",
       "    <tr>\n",
       "      <th>...</th>\n",
       "      <td>...</td>\n",
       "      <td>...</td>\n",
       "    </tr>\n",
       "    <tr>\n",
       "      <th>953</th>\n",
       "      <td>2021-01-07</td>\n",
       "      <td>196.75</td>\n",
       "    </tr>\n",
       "    <tr>\n",
       "      <th>954</th>\n",
       "      <td>2021-01-06</td>\n",
       "      <td>195.4</td>\n",
       "    </tr>\n",
       "    <tr>\n",
       "      <th>955</th>\n",
       "      <td>2021-01-05</td>\n",
       "      <td>193.2</td>\n",
       "    </tr>\n",
       "    <tr>\n",
       "      <th>956</th>\n",
       "      <td>2021-01-04</td>\n",
       "      <td>191.3</td>\n",
       "    </tr>\n",
       "    <tr>\n",
       "      <th>957</th>\n",
       "      <td>2021-01-01</td>\n",
       "      <td>186.5</td>\n",
       "    </tr>\n",
       "  </tbody>\n",
       "</table>\n",
       "<p>958 rows × 2 columns</p>\n",
       "</div>"
      ],
      "text/plain": [
       "          Date   Price\n",
       "0   2024-11-11   804.7\n",
       "1   2024-11-08  805.45\n",
       "2   2024-11-07  819.75\n",
       "3   2024-11-06   839.7\n",
       "4   2024-11-05  835.65\n",
       "..         ...     ...\n",
       "953 2021-01-07  196.75\n",
       "954 2021-01-06   195.4\n",
       "955 2021-01-05   193.2\n",
       "956 2021-01-04   191.3\n",
       "957 2021-01-01   186.5\n",
       "\n",
       "[958 rows x 2 columns]"
      ]
     },
     "execution_count": 112,
     "metadata": {},
     "output_type": "execute_result"
    }
   ],
   "source": [
    "data.drop(columns=['month'])"
   ]
  },
  {
   "cell_type": "code",
   "execution_count": 113,
   "metadata": {},
   "outputs": [
    {
     "name": "stdout",
     "output_type": "stream",
     "text": [
      "<class 'pandas.core.frame.DataFrame'>\n",
      "RangeIndex: 958 entries, 0 to 957\n",
      "Data columns (total 3 columns):\n",
      " #   Column  Non-Null Count  Dtype         \n",
      "---  ------  --------------  -----         \n",
      " 0   Date    958 non-null    datetime64[ns]\n",
      " 1   Price   958 non-null    object        \n",
      " 2   month   958 non-null    int64         \n",
      "dtypes: datetime64[ns](1), int64(1), object(1)\n",
      "memory usage: 22.6+ KB\n"
     ]
    }
   ],
   "source": [
    "data.info()"
   ]
  },
  {
   "cell_type": "code",
   "execution_count": 114,
   "metadata": {},
   "outputs": [],
   "source": [
    "data['Price']=data['Price'].str.replace(',','').astype(float)"
   ]
  },
  {
   "cell_type": "code",
   "execution_count": 115,
   "metadata": {},
   "outputs": [],
   "source": [
    "data['Price']=pd.to_numeric(data['Price'])"
   ]
  },
  {
   "cell_type": "code",
   "execution_count": 116,
   "metadata": {},
   "outputs": [
    {
     "data": {
      "text/plain": [
       "Date     2024-09-10 00:00:00\n",
       "Price                 1035.8\n",
       "month                      9\n",
       "Name: 43, dtype: object"
      ]
     },
     "execution_count": 116,
     "metadata": {},
     "output_type": "execute_result"
    }
   ],
   "source": [
    "data.iloc[43,:]"
   ]
  },
  {
   "cell_type": "code",
   "execution_count": 117,
   "metadata": {},
   "outputs": [
    {
     "data": {
      "text/html": [
       "<div>\n",
       "<style scoped>\n",
       "    .dataframe tbody tr th:only-of-type {\n",
       "        vertical-align: middle;\n",
       "    }\n",
       "\n",
       "    .dataframe tbody tr th {\n",
       "        vertical-align: top;\n",
       "    }\n",
       "\n",
       "    .dataframe thead th {\n",
       "        text-align: right;\n",
       "    }\n",
       "</style>\n",
       "<table border=\"1\" class=\"dataframe\">\n",
       "  <thead>\n",
       "    <tr style=\"text-align: right;\">\n",
       "      <th></th>\n",
       "      <th>Date</th>\n",
       "      <th>Price</th>\n",
       "      <th>month</th>\n",
       "    </tr>\n",
       "  </thead>\n",
       "  <tbody>\n",
       "    <tr>\n",
       "      <th>903</th>\n",
       "      <td>2021-03-22</td>\n",
       "      <td>303.05</td>\n",
       "      <td>3</td>\n",
       "    </tr>\n",
       "    <tr>\n",
       "      <th>813</th>\n",
       "      <td>2021-08-03</td>\n",
       "      <td>303.70</td>\n",
       "      <td>8</td>\n",
       "    </tr>\n",
       "    <tr>\n",
       "      <th>156</th>\n",
       "      <td>2024-03-26</td>\n",
       "      <td>983.17</td>\n",
       "      <td>3</td>\n",
       "    </tr>\n",
       "    <tr>\n",
       "      <th>596</th>\n",
       "      <td>2022-06-17</td>\n",
       "      <td>388.95</td>\n",
       "      <td>6</td>\n",
       "    </tr>\n",
       "    <tr>\n",
       "      <th>689</th>\n",
       "      <td>2022-02-01</td>\n",
       "      <td>504.30</td>\n",
       "      <td>2</td>\n",
       "    </tr>\n",
       "  </tbody>\n",
       "</table>\n",
       "</div>"
      ],
      "text/plain": [
       "          Date   Price  month\n",
       "903 2021-03-22  303.05      3\n",
       "813 2021-08-03  303.70      8\n",
       "156 2024-03-26  983.17      3\n",
       "596 2022-06-17  388.95      6\n",
       "689 2022-02-01  504.30      2"
      ]
     },
     "execution_count": 117,
     "metadata": {},
     "output_type": "execute_result"
    }
   ],
   "source": [
    "data.sample(5)"
   ]
  },
  {
   "cell_type": "code",
   "execution_count": 118,
   "metadata": {},
   "outputs": [
    {
     "name": "stdout",
     "output_type": "stream",
     "text": [
      "<class 'pandas.core.frame.DataFrame'>\n",
      "RangeIndex: 958 entries, 0 to 957\n",
      "Data columns (total 3 columns):\n",
      " #   Column  Non-Null Count  Dtype         \n",
      "---  ------  --------------  -----         \n",
      " 0   Date    958 non-null    datetime64[ns]\n",
      " 1   Price   958 non-null    float64       \n",
      " 2   month   958 non-null    int64         \n",
      "dtypes: datetime64[ns](1), float64(1), int64(1)\n",
      "memory usage: 22.6 KB\n"
     ]
    }
   ],
   "source": [
    "data.info()"
   ]
  },
  {
   "cell_type": "code",
   "execution_count": 119,
   "metadata": {},
   "outputs": [
    {
     "data": {
      "text/html": [
       "<div>\n",
       "<style scoped>\n",
       "    .dataframe tbody tr th:only-of-type {\n",
       "        vertical-align: middle;\n",
       "    }\n",
       "\n",
       "    .dataframe tbody tr th {\n",
       "        vertical-align: top;\n",
       "    }\n",
       "\n",
       "    .dataframe thead th {\n",
       "        text-align: right;\n",
       "    }\n",
       "</style>\n",
       "<table border=\"1\" class=\"dataframe\">\n",
       "  <thead>\n",
       "    <tr style=\"text-align: right;\">\n",
       "      <th></th>\n",
       "      <th>Price</th>\n",
       "      <th>month</th>\n",
       "    </tr>\n",
       "    <tr>\n",
       "      <th>Date</th>\n",
       "      <th></th>\n",
       "      <th></th>\n",
       "    </tr>\n",
       "  </thead>\n",
       "  <tbody>\n",
       "    <tr>\n",
       "      <th>2022-09-23</th>\n",
       "      <td>421.80</td>\n",
       "      <td>9</td>\n",
       "    </tr>\n",
       "    <tr>\n",
       "      <th>2023-07-21</th>\n",
       "      <td>623.83</td>\n",
       "      <td>7</td>\n",
       "    </tr>\n",
       "    <tr>\n",
       "      <th>2022-06-03</th>\n",
       "      <td>431.90</td>\n",
       "      <td>6</td>\n",
       "    </tr>\n",
       "  </tbody>\n",
       "</table>\n",
       "</div>"
      ],
      "text/plain": [
       "             Price  month\n",
       "Date                     \n",
       "2022-09-23  421.80      9\n",
       "2023-07-21  623.83      7\n",
       "2022-06-03  431.90      6"
      ]
     },
     "execution_count": 119,
     "metadata": {},
     "output_type": "execute_result"
    }
   ],
   "source": [
    "data=data.set_index('Date')\n",
    "data.sample(3)"
   ]
  },
  {
   "cell_type": "code",
   "execution_count": 120,
   "metadata": {},
   "outputs": [],
   "source": [
    "data.index.name = None"
   ]
  },
  {
   "cell_type": "code",
   "execution_count": 121,
   "metadata": {},
   "outputs": [
    {
     "data": {
      "text/html": [
       "<div>\n",
       "<style scoped>\n",
       "    .dataframe tbody tr th:only-of-type {\n",
       "        vertical-align: middle;\n",
       "    }\n",
       "\n",
       "    .dataframe tbody tr th {\n",
       "        vertical-align: top;\n",
       "    }\n",
       "\n",
       "    .dataframe thead th {\n",
       "        text-align: right;\n",
       "    }\n",
       "</style>\n",
       "<table border=\"1\" class=\"dataframe\">\n",
       "  <thead>\n",
       "    <tr style=\"text-align: right;\">\n",
       "      <th></th>\n",
       "      <th>Price</th>\n",
       "      <th>month</th>\n",
       "    </tr>\n",
       "  </thead>\n",
       "  <tbody>\n",
       "    <tr>\n",
       "      <th>2024-03-20</th>\n",
       "      <td>937.56</td>\n",
       "      <td>3</td>\n",
       "    </tr>\n",
       "    <tr>\n",
       "      <th>2024-08-21</th>\n",
       "      <td>1085.20</td>\n",
       "      <td>8</td>\n",
       "    </tr>\n",
       "    <tr>\n",
       "      <th>2021-04-13</th>\n",
       "      <td>302.85</td>\n",
       "      <td>4</td>\n",
       "    </tr>\n",
       "  </tbody>\n",
       "</table>\n",
       "</div>"
      ],
      "text/plain": [
       "              Price  month\n",
       "2024-03-20   937.56      3\n",
       "2024-08-21  1085.20      8\n",
       "2021-04-13   302.85      4"
      ]
     },
     "execution_count": 121,
     "metadata": {},
     "output_type": "execute_result"
    }
   ],
   "source": [
    "data.sample(3)"
   ]
  },
  {
   "cell_type": "code",
   "execution_count": null,
   "metadata": {},
   "outputs": [],
   "source": []
  },
  {
   "cell_type": "code",
   "execution_count": 122,
   "metadata": {
    "colab": {
     "base_uri": "https://localhost:8080/",
     "height": 410
    },
    "id": "izTSkPkIdQu1",
    "outputId": "ff12982a-6d8e-4e58-dd9d-38c5bdf0d664"
   },
   "outputs": [
    {
     "data": {
      "image/png": "[encoded data removed]",
      "text/plain": [
       "<Figure size 1000x400 with 1 Axes>"
      ]
     },
     "metadata": {},
     "output_type": "display_data"
    }
   ],
   "source": [
    "plt.figure(figsize=(10,4))\n",
    "sns.lineplot(data=data, x=data.index,y= data['Price'], label='TAMO Price History')\n",
    "plt.title('Tata Motors Price History')\n",
    "plt.xlabel('Date')\n",
    "plt.ylabel('Close Price')\n",
    "plt.legend(loc='upper left')\n",
    "plt.show()"
   ]
  },
  {
   "cell_type": "code",
   "execution_count": 123,
   "metadata": {
    "id": "E58TNXx9dvyV"
   },
   "outputs": [],
   "source": [
    "from sklearn.preprocessing import MinMaxScaler\n",
    "scaler=MinMaxScaler(feature_range=(0,1))\n",
    "scaled_data=scaler.fit_transform(data)"
   ]
  },
  {
   "cell_type": "code",
   "execution_count": 124,
   "metadata": {
    "id": "6ZLpuJgzftcq"
   },
   "outputs": [],
   "source": [
    "sequence_length=60\n",
    "X_train, y_train=[],[]\n",
    "for i in range(sequence_length, len(scaled_data)):\n",
    "    X_train.append(scaled_data[i-sequence_length:i,0])\n",
    "    y_train.append(scaled_data[i,0])\n",
    "\n",
    "X_train, y_train=np.array(X_train), np.array(y_train)\n"
   ]
  },
  {
   "cell_type": "code",
   "execution_count": 125,
   "metadata": {
    "colab": {
     "base_uri": "https://localhost:8080/"
    },
    "id": "-mfikd21kYB3",
    "outputId": "c5ac8001-0654-43fe-a1c3-99d43555a531"
   },
   "outputs": [
    {
     "data": {
      "text/plain": [
       "array([[0.63382376, 0.63459271, 0.64925411, ..., 0.92141283, 0.92315579,\n",
       "        0.92397601],\n",
       "       [0.63459271, 0.64925411, 0.66970831, ..., 0.92315579, 0.92397601,\n",
       "        0.93489517],\n",
       "       [0.64925411, 0.66970831, 0.66555595, ..., 0.92397601, 0.93489517,\n",
       "        0.89798534],\n",
       "       ...,\n",
       "       [0.12154611, 0.12431435, 0.11821397, ..., 0.01194443, 0.01050905,\n",
       "        0.00912493],\n",
       "       [0.12431435, 0.11821397, 0.11334393, ..., 0.01050905, 0.00912493,\n",
       "        0.00686933],\n",
       "       [0.11821397, 0.11334393, 0.1126775 , ..., 0.00912493, 0.00686933,\n",
       "        0.00492131]])"
      ]
     },
     "execution_count": 125,
     "metadata": {},
     "output_type": "execute_result"
    }
   ],
   "source": [
    "X_train"
   ]
  },
  {
   "cell_type": "code",
   "execution_count": 126,
   "metadata": {
    "colab": {
     "base_uri": "https://localhost:8080/"
    },
    "id": "7tdcLGcokgTJ",
    "outputId": "175ed8f7-c0f7-4c97-985b-de4bb1bcc51e"
   },
   "outputs": [
    {
     "data": {
      "text/plain": [
       "(898, 60)"
      ]
     },
     "execution_count": 126,
     "metadata": {},
     "output_type": "execute_result"
    }
   ],
   "source": [
    "X_train.shape"
   ]
  },
  {
   "cell_type": "code",
   "execution_count": 127,
   "metadata": {
    "colab": {
     "base_uri": "https://localhost:8080/",
     "height": 444
    },
    "id": "qYT8atNuqycj",
    "outputId": "0e7171f0-3364-41cf-b6ec-6b610ad46e8e"
   },
   "outputs": [
    {
     "data": {
      "text/html": [
       "<div>\n",
       "<style scoped>\n",
       "    .dataframe tbody tr th:only-of-type {\n",
       "        vertical-align: middle;\n",
       "    }\n",
       "\n",
       "    .dataframe tbody tr th {\n",
       "        vertical-align: top;\n",
       "    }\n",
       "\n",
       "    .dataframe thead th {\n",
       "        text-align: right;\n",
       "    }\n",
       "</style>\n",
       "<table border=\"1\" class=\"dataframe\">\n",
       "  <thead>\n",
       "    <tr style=\"text-align: right;\">\n",
       "      <th></th>\n",
       "      <th>0</th>\n",
       "      <th>1</th>\n",
       "      <th>2</th>\n",
       "      <th>3</th>\n",
       "      <th>4</th>\n",
       "      <th>5</th>\n",
       "      <th>6</th>\n",
       "      <th>7</th>\n",
       "      <th>8</th>\n",
       "      <th>9</th>\n",
       "      <th>...</th>\n",
       "      <th>50</th>\n",
       "      <th>51</th>\n",
       "      <th>52</th>\n",
       "      <th>53</th>\n",
       "      <th>54</th>\n",
       "      <th>55</th>\n",
       "      <th>56</th>\n",
       "      <th>57</th>\n",
       "      <th>58</th>\n",
       "      <th>59</th>\n",
       "    </tr>\n",
       "  </thead>\n",
       "  <tbody>\n",
       "    <tr>\n",
       "      <th>0</th>\n",
       "      <td>0.633824</td>\n",
       "      <td>0.634593</td>\n",
       "      <td>0.649254</td>\n",
       "      <td>0.669708</td>\n",
       "      <td>0.665556</td>\n",
       "      <td>0.653714</td>\n",
       "      <td>0.673553</td>\n",
       "      <td>0.663916</td>\n",
       "      <td>0.670221</td>\n",
       "      <td>0.672835</td>\n",
       "      <td>...</td>\n",
       "      <td>0.948224</td>\n",
       "      <td>0.958784</td>\n",
       "      <td>0.910494</td>\n",
       "      <td>0.913262</td>\n",
       "      <td>0.928795</td>\n",
       "      <td>0.921362</td>\n",
       "      <td>0.904240</td>\n",
       "      <td>0.921413</td>\n",
       "      <td>0.923156</td>\n",
       "      <td>0.923976</td>\n",
       "    </tr>\n",
       "    <tr>\n",
       "      <th>1</th>\n",
       "      <td>0.634593</td>\n",
       "      <td>0.649254</td>\n",
       "      <td>0.669708</td>\n",
       "      <td>0.665556</td>\n",
       "      <td>0.653714</td>\n",
       "      <td>0.673553</td>\n",
       "      <td>0.663916</td>\n",
       "      <td>0.670221</td>\n",
       "      <td>0.672835</td>\n",
       "      <td>0.709438</td>\n",
       "      <td>...</td>\n",
       "      <td>0.958784</td>\n",
       "      <td>0.910494</td>\n",
       "      <td>0.913262</td>\n",
       "      <td>0.928795</td>\n",
       "      <td>0.921362</td>\n",
       "      <td>0.904240</td>\n",
       "      <td>0.921413</td>\n",
       "      <td>0.923156</td>\n",
       "      <td>0.923976</td>\n",
       "      <td>0.934895</td>\n",
       "    </tr>\n",
       "    <tr>\n",
       "      <th>2</th>\n",
       "      <td>0.649254</td>\n",
       "      <td>0.669708</td>\n",
       "      <td>0.665556</td>\n",
       "      <td>0.653714</td>\n",
       "      <td>0.673553</td>\n",
       "      <td>0.663916</td>\n",
       "      <td>0.670221</td>\n",
       "      <td>0.672835</td>\n",
       "      <td>0.709438</td>\n",
       "      <td>0.694930</td>\n",
       "      <td>...</td>\n",
       "      <td>0.910494</td>\n",
       "      <td>0.913262</td>\n",
       "      <td>0.928795</td>\n",
       "      <td>0.921362</td>\n",
       "      <td>0.904240</td>\n",
       "      <td>0.921413</td>\n",
       "      <td>0.923156</td>\n",
       "      <td>0.923976</td>\n",
       "      <td>0.934895</td>\n",
       "      <td>0.897985</td>\n",
       "    </tr>\n",
       "    <tr>\n",
       "      <th>3</th>\n",
       "      <td>0.669708</td>\n",
       "      <td>0.665556</td>\n",
       "      <td>0.653714</td>\n",
       "      <td>0.673553</td>\n",
       "      <td>0.663916</td>\n",
       "      <td>0.670221</td>\n",
       "      <td>0.672835</td>\n",
       "      <td>0.709438</td>\n",
       "      <td>0.694930</td>\n",
       "      <td>0.711027</td>\n",
       "      <td>...</td>\n",
       "      <td>0.913262</td>\n",
       "      <td>0.928795</td>\n",
       "      <td>0.921362</td>\n",
       "      <td>0.904240</td>\n",
       "      <td>0.921413</td>\n",
       "      <td>0.923156</td>\n",
       "      <td>0.923976</td>\n",
       "      <td>0.934895</td>\n",
       "      <td>0.897985</td>\n",
       "      <td>0.888860</td>\n",
       "    </tr>\n",
       "    <tr>\n",
       "      <th>4</th>\n",
       "      <td>0.665556</td>\n",
       "      <td>0.653714</td>\n",
       "      <td>0.673553</td>\n",
       "      <td>0.663916</td>\n",
       "      <td>0.670221</td>\n",
       "      <td>0.672835</td>\n",
       "      <td>0.709438</td>\n",
       "      <td>0.694930</td>\n",
       "      <td>0.711027</td>\n",
       "      <td>0.708617</td>\n",
       "      <td>...</td>\n",
       "      <td>0.928795</td>\n",
       "      <td>0.921362</td>\n",
       "      <td>0.904240</td>\n",
       "      <td>0.921413</td>\n",
       "      <td>0.923156</td>\n",
       "      <td>0.923976</td>\n",
       "      <td>0.934895</td>\n",
       "      <td>0.897985</td>\n",
       "      <td>0.888860</td>\n",
       "      <td>0.912134</td>\n",
       "    </tr>\n",
       "    <tr>\n",
       "      <th>...</th>\n",
       "      <td>...</td>\n",
       "      <td>...</td>\n",
       "      <td>...</td>\n",
       "      <td>...</td>\n",
       "      <td>...</td>\n",
       "      <td>...</td>\n",
       "      <td>...</td>\n",
       "      <td>...</td>\n",
       "      <td>...</td>\n",
       "      <td>...</td>\n",
       "      <td>...</td>\n",
       "      <td>...</td>\n",
       "      <td>...</td>\n",
       "      <td>...</td>\n",
       "      <td>...</td>\n",
       "      <td>...</td>\n",
       "      <td>...</td>\n",
       "      <td>...</td>\n",
       "      <td>...</td>\n",
       "      <td>...</td>\n",
       "      <td>...</td>\n",
       "    </tr>\n",
       "    <tr>\n",
       "      <th>893</th>\n",
       "      <td>0.124366</td>\n",
       "      <td>0.124314</td>\n",
       "      <td>0.121546</td>\n",
       "      <td>0.124314</td>\n",
       "      <td>0.118214</td>\n",
       "      <td>0.113344</td>\n",
       "      <td>0.112678</td>\n",
       "      <td>0.101553</td>\n",
       "      <td>0.110678</td>\n",
       "      <td>0.123956</td>\n",
       "      <td>...</td>\n",
       "      <td>0.106731</td>\n",
       "      <td>0.090634</td>\n",
       "      <td>0.073973</td>\n",
       "      <td>0.060952</td>\n",
       "      <td>0.075665</td>\n",
       "      <td>0.060081</td>\n",
       "      <td>0.057518</td>\n",
       "      <td>0.052597</td>\n",
       "      <td>0.035013</td>\n",
       "      <td>0.011944</td>\n",
       "    </tr>\n",
       "    <tr>\n",
       "      <th>894</th>\n",
       "      <td>0.124314</td>\n",
       "      <td>0.121546</td>\n",
       "      <td>0.124314</td>\n",
       "      <td>0.118214</td>\n",
       "      <td>0.113344</td>\n",
       "      <td>0.112678</td>\n",
       "      <td>0.101553</td>\n",
       "      <td>0.110678</td>\n",
       "      <td>0.123956</td>\n",
       "      <td>0.119496</td>\n",
       "      <td>...</td>\n",
       "      <td>0.090634</td>\n",
       "      <td>0.073973</td>\n",
       "      <td>0.060952</td>\n",
       "      <td>0.075665</td>\n",
       "      <td>0.060081</td>\n",
       "      <td>0.057518</td>\n",
       "      <td>0.052597</td>\n",
       "      <td>0.035013</td>\n",
       "      <td>0.011944</td>\n",
       "      <td>0.010509</td>\n",
       "    </tr>\n",
       "    <tr>\n",
       "      <th>895</th>\n",
       "      <td>0.121546</td>\n",
       "      <td>0.124314</td>\n",
       "      <td>0.118214</td>\n",
       "      <td>0.113344</td>\n",
       "      <td>0.112678</td>\n",
       "      <td>0.101553</td>\n",
       "      <td>0.110678</td>\n",
       "      <td>0.123956</td>\n",
       "      <td>0.119496</td>\n",
       "      <td>0.125545</td>\n",
       "      <td>...</td>\n",
       "      <td>0.073973</td>\n",
       "      <td>0.060952</td>\n",
       "      <td>0.075665</td>\n",
       "      <td>0.060081</td>\n",
       "      <td>0.057518</td>\n",
       "      <td>0.052597</td>\n",
       "      <td>0.035013</td>\n",
       "      <td>0.011944</td>\n",
       "      <td>0.010509</td>\n",
       "      <td>0.009125</td>\n",
       "    </tr>\n",
       "    <tr>\n",
       "      <th>896</th>\n",
       "      <td>0.124314</td>\n",
       "      <td>0.118214</td>\n",
       "      <td>0.113344</td>\n",
       "      <td>0.112678</td>\n",
       "      <td>0.101553</td>\n",
       "      <td>0.110678</td>\n",
       "      <td>0.123956</td>\n",
       "      <td>0.119496</td>\n",
       "      <td>0.125545</td>\n",
       "      <td>0.123545</td>\n",
       "      <td>...</td>\n",
       "      <td>0.060952</td>\n",
       "      <td>0.075665</td>\n",
       "      <td>0.060081</td>\n",
       "      <td>0.057518</td>\n",
       "      <td>0.052597</td>\n",
       "      <td>0.035013</td>\n",
       "      <td>0.011944</td>\n",
       "      <td>0.010509</td>\n",
       "      <td>0.009125</td>\n",
       "      <td>0.006869</td>\n",
       "    </tr>\n",
       "    <tr>\n",
       "      <th>897</th>\n",
       "      <td>0.118214</td>\n",
       "      <td>0.113344</td>\n",
       "      <td>0.112678</td>\n",
       "      <td>0.101553</td>\n",
       "      <td>0.110678</td>\n",
       "      <td>0.123956</td>\n",
       "      <td>0.119496</td>\n",
       "      <td>0.125545</td>\n",
       "      <td>0.123545</td>\n",
       "      <td>0.122315</td>\n",
       "      <td>...</td>\n",
       "      <td>0.075665</td>\n",
       "      <td>0.060081</td>\n",
       "      <td>0.057518</td>\n",
       "      <td>0.052597</td>\n",
       "      <td>0.035013</td>\n",
       "      <td>0.011944</td>\n",
       "      <td>0.010509</td>\n",
       "      <td>0.009125</td>\n",
       "      <td>0.006869</td>\n",
       "      <td>0.004921</td>\n",
       "    </tr>\n",
       "  </tbody>\n",
       "</table>\n",
       "<p>898 rows × 60 columns</p>\n",
       "</div>"
      ],
      "text/plain": [
       "           0         1         2         3         4         5         6   \\\n",
       "0    0.633824  0.634593  0.649254  0.669708  0.665556  0.653714  0.673553   \n",
       "1    0.634593  0.649254  0.669708  0.665556  0.653714  0.673553  0.663916   \n",
       "2    0.649254  0.669708  0.665556  0.653714  0.673553  0.663916  0.670221   \n",
       "3    0.669708  0.665556  0.653714  0.673553  0.663916  0.670221  0.672835   \n",
       "4    0.665556  0.653714  0.673553  0.663916  0.670221  0.672835  0.709438   \n",
       "..        ...       ...       ...       ...       ...       ...       ...   \n",
       "893  0.124366  0.124314  0.121546  0.124314  0.118214  0.113344  0.112678   \n",
       "894  0.124314  0.121546  0.124314  0.118214  0.113344  0.112678  0.101553   \n",
       "895  0.121546  0.124314  0.118214  0.113344  0.112678  0.101553  0.110678   \n",
       "896  0.124314  0.118214  0.113344  0.112678  0.101553  0.110678  0.123956   \n",
       "897  0.118214  0.113344  0.112678  0.101553  0.110678  0.123956  0.119496   \n",
       "\n",
       "           7         8         9   ...        50        51        52  \\\n",
       "0    0.663916  0.670221  0.672835  ...  0.948224  0.958784  0.910494   \n",
       "1    0.670221  0.672835  0.709438  ...  0.958784  0.910494  0.913262   \n",
       "2    0.672835  0.709438  0.694930  ...  0.910494  0.913262  0.928795   \n",
       "3    0.709438  0.694930  0.711027  ...  0.913262  0.928795  0.921362   \n",
       "4    0.694930  0.711027  0.708617  ...  0.928795  0.921362  0.904240   \n",
       "..        ...       ...       ...  ...       ...       ...       ...   \n",
       "893  0.101553  0.110678  0.123956  ...  0.106731  0.090634  0.073973   \n",
       "894  0.110678  0.123956  0.119496  ...  0.090634  0.073973  0.060952   \n",
       "895  0.123956  0.119496  0.125545  ...  0.073973  0.060952  0.075665   \n",
       "896  0.119496  0.125545  0.123545  ...  0.060952  0.075665  0.060081   \n",
       "897  0.125545  0.123545  0.122315  ...  0.075665  0.060081  0.057518   \n",
       "\n",
       "           53        54        55        56        57        58        59  \n",
       "0    0.913262  0.928795  0.921362  0.904240  0.921413  0.923156  0.923976  \n",
       "1    0.928795  0.921362  0.904240  0.921413  0.923156  0.923976  0.934895  \n",
       "2    0.921362  0.904240  0.921413  0.923156  0.923976  0.934895  0.897985  \n",
       "3    0.904240  0.921413  0.923156  0.923976  0.934895  0.897985  0.888860  \n",
       "4    0.921413  0.923156  0.923976  0.934895  0.897985  0.888860  0.912134  \n",
       "..        ...       ...       ...       ...       ...       ...       ...  \n",
       "893  0.060952  0.075665  0.060081  0.057518  0.052597  0.035013  0.011944  \n",
       "894  0.075665  0.060081  0.057518  0.052597  0.035013  0.011944  0.010509  \n",
       "895  0.060081  0.057518  0.052597  0.035013  0.011944  0.010509  0.009125  \n",
       "896  0.057518  0.052597  0.035013  0.011944  0.010509  0.009125  0.006869  \n",
       "897  0.052597  0.035013  0.011944  0.010509  0.009125  0.006869  0.004921  \n",
       "\n",
       "[898 rows x 60 columns]"
      ]
     },
     "execution_count": 127,
     "metadata": {},
     "output_type": "execute_result"
    }
   ],
   "source": [
    "pd.DataFrame(X_train)"
   ]
  },
  {
   "cell_type": "code",
   "execution_count": 128,
   "metadata": {
    "id": "nXgHV-bFkTo7"
   },
   "outputs": [],
   "source": [
    "X_train=np.reshape(X_train, (X_train.shape[0], X_train.shape[1], 1))\n",
    "# we reshaped the X_train and Y_train to 3dimensional array- because RNN and LSTM needs a 3d input"
   ]
  },
  {
   "cell_type": "code",
   "execution_count": 129,
   "metadata": {
    "colab": {
     "base_uri": "https://localhost:8080/"
    },
    "id": "grOev6zqheQJ",
    "outputId": "9c8523a2-16b4-4fdf-cf7f-d0ff9d5b7fff"
   },
   "outputs": [
    {
     "data": {
      "text/plain": [
       "array([[[0.63382376],\n",
       "        [0.63459271],\n",
       "        [0.64925411],\n",
       "        ...,\n",
       "        [0.92141283],\n",
       "        [0.92315579],\n",
       "        [0.92397601]],\n",
       "\n",
       "       [[0.63459271],\n",
       "        [0.64925411],\n",
       "        [0.66970831],\n",
       "        ...,\n",
       "        [0.92315579],\n",
       "        [0.92397601],\n",
       "        [0.93489517]],\n",
       "\n",
       "       [[0.64925411],\n",
       "        [0.66970831],\n",
       "        [0.66555595],\n",
       "        ...,\n",
       "        [0.92397601],\n",
       "        [0.93489517],\n",
       "        [0.89798534]],\n",
       "\n",
       "       ...,\n",
       "\n",
       "       [[0.12154611],\n",
       "        [0.12431435],\n",
       "        [0.11821397],\n",
       "        ...,\n",
       "        [0.01194443],\n",
       "        [0.01050905],\n",
       "        [0.00912493]],\n",
       "\n",
       "       [[0.12431435],\n",
       "        [0.11821397],\n",
       "        [0.11334393],\n",
       "        ...,\n",
       "        [0.01050905],\n",
       "        [0.00912493],\n",
       "        [0.00686933]],\n",
       "\n",
       "       [[0.11821397],\n",
       "        [0.11334393],\n",
       "        [0.1126775 ],\n",
       "        ...,\n",
       "        [0.00912493],\n",
       "        [0.00686933],\n",
       "        [0.00492131]]])"
      ]
     },
     "execution_count": 129,
     "metadata": {},
     "output_type": "execute_result"
    }
   ],
   "source": [
    "X_train"
   ]
  },
  {
   "cell_type": "code",
   "execution_count": 130,
   "metadata": {
    "colab": {
     "base_uri": "https://localhost:8080/"
    },
    "id": "ZNfaas92kt6R",
    "outputId": "614b2e57-6661-49d2-e7a9-b92b5a3a4daf"
   },
   "outputs": [
    {
     "data": {
      "text/plain": [
       "(898, 60, 1)"
      ]
     },
     "execution_count": 130,
     "metadata": {},
     "output_type": "execute_result"
    }
   ],
   "source": [
    "X_train.shape"
   ]
  },
  {
   "cell_type": "code",
   "execution_count": 131,
   "metadata": {
    "colab": {
     "base_uri": "https://localhost:8080/"
    },
    "id": "Q_3YPZ_sj0tJ",
    "outputId": "330cb012-792a-4900-a9b6-c3fe3a742e12"
   },
   "outputs": [
    {
     "data": {
      "text/plain": [
       "array([0.93489517, 0.89798534, 0.88886041, 0.91213411, 0.90388066,\n",
       "       0.87686472, 0.85999897, 0.84815707, 0.85092531, 0.9331522 ,\n",
       "       0.98210899, 0.99466858, 1.        , 0.96119342, 0.95534936,\n",
       "       0.92730815, 0.86245963, 0.83590506, 0.83728918, 0.82380684,\n",
       "       0.85923002, 0.85574409, 0.85912749, 0.85123289, 0.85538525,\n",
       "       0.83969857, 0.8493874 , 0.83672528, 0.82754908, 0.83221408,\n",
       "       0.80909417, 0.81488696, 0.83616138, 0.82355052, 0.80545445,\n",
       "       0.78469267, 0.78792228, 0.79104937, 0.79489414, 0.81175988,\n",
       "       0.81083714, 0.81960322, 0.82729277, 0.81955196, 0.82247398,\n",
       "       0.82083355, 0.80550572, 0.8007587 , 0.76778592, 0.75930692,\n",
       "       0.73268058, 0.7802635 , 0.75220177, 0.75317578, 0.77326088,\n",
       "       0.77730046, 0.78848618, 0.79057774, 0.79242323, 0.77724919,\n",
       "       0.78112472, 0.78684575, 0.7754037 , 0.76589942, 0.77704414,\n",
       "       0.79477111, 0.78976778, 0.87858717, 0.86187522, 0.84327677,\n",
       "       0.81920336, 0.84745989, 0.84459937, 0.85932229, 0.83898088,\n",
       "       0.83151689, 0.83039934, 0.83218332, 0.82237146, 0.81736812,\n",
       "       0.80386528, 0.79329471, 0.80161993, 0.82355052, 0.82968165,\n",
       "       0.84981801, 0.8447019 , 0.83959604, 0.84439432, 0.83816066,\n",
       "       0.84276414, 0.84026247, 0.83565899, 0.82298662, 0.82355052,\n",
       "       0.80908392, 0.81680422, 0.81026298, 0.79502743, 0.77004152,\n",
       "       0.78771723, 0.80274773, 0.77555749, 0.7979392 , 0.80351669,\n",
       "       0.84776747, 0.85952735, 0.87107192, 0.84894653, 0.85329369,\n",
       "       0.81781924, 0.82211514, 0.80780233, 0.78000718, 0.78802481,\n",
       "       0.79278208, 0.76646332, 0.76692469, 0.76170605, 0.75021274,\n",
       "       0.75562619, 0.76201364, 0.76814477, 0.74970011, 0.74739324,\n",
       "       0.73574614, 0.74055467, 0.7440201 , 0.75353463, 0.76324396,\n",
       "       0.76911878, 0.75608756, 0.70697698, 0.70672066, 0.71254421,\n",
       "       0.68663557, 0.66838571, 0.63859127, 0.63762752, 0.62694417,\n",
       "       0.64838263, 0.65055621, 0.64595273, 0.63215256, 0.64574768,\n",
       "       0.63920644, 0.64329728, 0.64247706, 0.6351156 , 0.62627775,\n",
       "       0.61533808, 0.61723484, 0.62213564, 0.6075255 , 0.61053981,\n",
       "       0.61687599, 0.60598759, 0.57936125, 0.56607372, 0.54425591,\n",
       "       0.54951556, 0.53331625, 0.52963552, 0.55386272, 0.55574922,\n",
       "       0.55738965, 0.54446096, 0.54501461, 0.54001128, 0.54552725,\n",
       "       0.5391398 , 0.54670631, 0.54721895, 0.53341877, 0.52999436,\n",
       "       0.52984057, 0.53081458, 0.53689445, 0.52171016, 0.49739068,\n",
       "       0.50377813, 0.50504947, 0.50556211, 0.49800584, 0.50540831,\n",
       "       0.5042395 , 0.49518634, 0.47648536, 0.47885374, 0.47424002,\n",
       "       0.47249705, 0.4655457 , 0.46805762, 0.4691239 , 0.47061055,\n",
       "       0.45931204, 0.45037166, 0.45134567, 0.45119188, 0.46401804,\n",
       "       0.4491926 , 0.46074742, 0.47045676, 0.48665607, 0.4923771 ,\n",
       "       0.49206951, 0.47898703, 0.48972164, 0.49064438, 0.45982468,\n",
       "       0.45681038, 0.45328344, 0.43979084, 0.44499923, 0.44208746,\n",
       "       0.43595632, 0.44295894, 0.45292459, 0.43646896, 0.44265136,\n",
       "       0.44229251, 0.44117496, 0.44295894, 0.44970523, 0.46141385,\n",
       "       0.46360794, 0.45706669, 0.44720357, 0.44852617, 0.44331778,\n",
       "       0.45768186, 0.44991029, 0.43728918, 0.43253191, 0.43345466,\n",
       "       0.43126057, 0.43350592, 0.42307889, 0.42773363, 0.42936382,\n",
       "       0.42451428, 0.42727226, 0.4332496 , 0.43626391, 0.44270262,\n",
       "       0.4430102 , 0.43821192, 0.43611011, 0.44122623, 0.42956887,\n",
       "       0.43412108, 0.44071359, 0.44511201, 0.42951761, 0.43177321,\n",
       "       0.43739171, 0.44143128, 0.44520429, 0.4666735 , 0.46733993,\n",
       "       0.45814323, 0.46672477, 0.46406931, 0.46237761, 0.45195058,\n",
       "       0.44838263, 0.44418927, 0.44311273, 0.43442867, 0.44096991,\n",
       "       0.44751115, 0.44316399, 0.44398421, 0.45119188, 0.4411237 ,\n",
       "       0.44066233, 0.42287384, 0.41004768, 0.4133183 , 0.41265187,\n",
       "       0.41751166, 0.40840724, 0.39456605, 0.38919362, 0.38081714,\n",
       "       0.39073153, 0.40304506, 0.40494182, 0.38735838, 0.39119291,\n",
       "       0.38980879, 0.39170554, 0.38342134, 0.38541037, 0.38352386,\n",
       "       0.38086841, 0.38929615, 0.37682883, 0.3671195 , 0.35653868,\n",
       "       0.35582099, 0.34672682, 0.33905777, 0.34177475, 0.33869893,\n",
       "       0.33502845, 0.34049316, 0.34897216, 0.34284103, 0.34535295,\n",
       "       0.32848721, 0.33568463, 0.34146717, 0.35138156, 0.336146  ,\n",
       "       0.33170657, 0.32955349, 0.32357615, 0.32035679, 0.29643718,\n",
       "       0.30022043, 0.30318347, 0.29965653, 0.30446506, 0.30104065,\n",
       "       0.29756498, 0.29280771, 0.29449941, 0.29040857, 0.29612959,\n",
       "       0.28857333, 0.29225406, 0.29138258, 0.28867586, 0.28458502,\n",
       "       0.27763367, 0.28028913, 0.25611319, 0.24477367, 0.2424258 ,\n",
       "       0.23889886, 0.22703645, 0.21926488, 0.22994822, 0.23450044,\n",
       "       0.23720716, 0.23409033, 0.23046086, 0.22862562, 0.23705337,\n",
       "       0.23368022, 0.22923053, 0.23465423, 0.24052904, 0.25427795,\n",
       "       0.25054596, 0.25780489, 0.25862511, 0.24625006, 0.23854001,\n",
       "       0.24420977, 0.23879633, 0.23597683, 0.24599375, 0.25157123,\n",
       "       0.24773671, 0.25494438, 0.26158815, 0.25842005, 0.26015277,\n",
       "       0.26275696, 0.25908648, 0.25958887, 0.26449992, 0.2552007 ,\n",
       "       0.25862511, 0.25386784, 0.26056287, 0.26408981, 0.26342339,\n",
       "       0.26532014, 0.27088737, 0.26225458, 0.2642436 , 0.23710463,\n",
       "       0.24027272, 0.22621623, 0.22085405, 0.21840365, 0.22621623,\n",
       "       0.23327011, 0.23092223, 0.22938432, 0.23015328, 0.23623315,\n",
       "       0.23081971, 0.20684882, 0.1992413 , 0.20424463, 0.20291178,\n",
       "       0.21140104, 0.21232378, 0.20532117, 0.20321936, 0.20874558,\n",
       "       0.21165735, 0.20210181, 0.1955093 , 0.21196494, 0.22029015,\n",
       "       0.2283693 , 0.23602809, 0.23970882, 0.23470549, 0.23592557,\n",
       "       0.23654073, 0.2321013 , 0.23122981, 0.23521813, 0.23818117,\n",
       "       0.24533757, 0.24701902, 0.25381658, 0.25672835, 0.25790742,\n",
       "       0.25151997, 0.25162249, 0.25157123, 0.24155431, 0.24222074,\n",
       "       0.24287692, 0.23919619, 0.24196442, 0.241298  , 0.24987953,\n",
       "       0.25560055, 0.25208387, 0.24165684, 0.23010201, 0.25151997,\n",
       "       0.25340647, 0.24354334, 0.23424412, 0.24027272, 0.2394525 ,\n",
       "       0.23066591, 0.22775414, 0.22550879, 0.22228943, 0.21926488,\n",
       "       0.21564567, 0.21569693, 0.21666069, 0.22198185, 0.21364638,\n",
       "       0.21380017, 0.21660942, 0.21410776, 0.21083714, 0.21349259,\n",
       "       0.23005075, 0.23205003, 0.22570359, 0.21523556, 0.2223407 ,\n",
       "       0.21993131, 0.21671195, 0.21640437, 0.21508177, 0.24124673,\n",
       "       0.25054596, 0.24589122, 0.25263751, 0.24364587, 0.25085354,\n",
       "       0.26592505, 0.26894961, 0.27568565, 0.26975957, 0.26455119,\n",
       "       0.26076793, 0.26449992, 0.27665966, 0.27794125, 0.2807505 ,\n",
       "       0.28601015, 0.29030604, 0.27215871, 0.28412365, 0.27814631,\n",
       "       0.28222689, 0.27941764, 0.2734403 , 0.29020352, 0.30431127,\n",
       "       0.30492644, 0.3094684 , 0.29689855, 0.2959758 , 0.29485826,\n",
       "       0.28739427, 0.2843287 , 0.2880607 , 0.2869329 , 0.29557595,\n",
       "       0.29859025, 0.26833444, 0.26081919, 0.26265443, 0.25969139,\n",
       "       0.26828318, 0.27374789, 0.27369662, 0.27226124, 0.26777054,\n",
       "       0.26965705, 0.25872764, 0.24630133, 0.24533757, 0.24886451,\n",
       "       0.25550828, 0.2601015 , 0.24916184, 0.23434664, 0.22989696,\n",
       "       0.22626749, 0.23061465, 0.230994  , 0.23627416, 0.23642795,\n",
       "       0.23376224, 0.22843082, 0.22627775, 0.2118214 , 0.21643513,\n",
       "       0.20115856, 0.20756651, 0.21166761, 0.23335213, 0.22417594,\n",
       "       0.22576511, 0.24765469, 0.24811606, 0.25544676, 0.25565182,\n",
       "       0.25206336, 0.25160199, 0.25903522, 0.26462296, 0.26354642,\n",
       "       0.26236736, 0.24924386, 0.24006767, 0.23632542, 0.24529656,\n",
       "       0.24088789, 0.23735069, 0.21751166, 0.23442867, 0.24365612,\n",
       "       0.22438099, 0.22330445, 0.19049572, 0.2067463 , 0.21043728,\n",
       "       0.22294561, 0.22766186, 0.24586046, 0.2429897 , 0.252576  ,\n",
       "       0.25744605, 0.25585687, 0.24991029, 0.25467781, 0.2446814 ,\n",
       "       0.25872764, 0.26816015, 0.2604706 , 0.24447634, 0.25355001,\n",
       "       0.25073051, 0.25816374, 0.27226124, 0.27226124, 0.26964679,\n",
       "       0.27646486, 0.27841288, 0.26682729, 0.26108576, 0.25349874,\n",
       "       0.25544676, 0.25344748, 0.25242221, 0.25180704, 0.25293484,\n",
       "       0.25560055, 0.26026555, 0.24755216, 0.25355001, 0.24442508,\n",
       "       0.23289076, 0.23089147, 0.23750449, 0.23899113, 0.22494489,\n",
       "       0.21043728, 0.21274414, 0.23658174, 0.25693341, 0.26769877,\n",
       "       0.27431179, 0.28015584, 0.24755216, 0.2978418 , 0.29912339,\n",
       "       0.31573281, 0.31439996, 0.32137182, 0.31983391, 0.32552417,\n",
       "       0.29215154, 0.32024401, 0.32906136, 0.32270467, 0.31398985,\n",
       "       0.3158866 , 0.32203824, 0.32603681, 0.32798483, 0.32583175,\n",
       "       0.33962167, 0.31865484, 0.31568155, 0.31173425, 0.29932845,\n",
       "       0.32331983, 0.33751986, 0.34280002, 0.33249603, 0.3470549 ,\n",
       "       0.33157328, 0.33367509, 0.32885631, 0.32275593, 0.32521659,\n",
       "       0.31178551, 0.30999129, 0.31091403, 0.31076024, 0.31896242,\n",
       "       0.30337827, 0.291075  , 0.29681653, 0.30112267, 0.29184395,\n",
       "       0.28820423, 0.29307428, 0.29117753, 0.27385041, 0.26713487,\n",
       "       0.29086994, 0.31316963, 0.31286205, 0.31055519, 0.31665556,\n",
       "       0.31573281, 0.31522018, 0.31516891, 0.30276311, 0.28779413,\n",
       "       0.30102015, 0.29999487, 0.29604757, 0.27897678, 0.28189881,\n",
       "       0.28061721, 0.31398985, 0.30978623, 0.31680935, 0.30717178,\n",
       "       0.33136823, 0.35233506, 0.34095453, 0.32701082, 0.32865125,\n",
       "       0.32496027, 0.33244476, 0.33131696, 0.32285846, 0.31086277,\n",
       "       0.30594146, 0.30896601, 0.30676168, 0.30471113, 0.30199416,\n",
       "       0.31927001, 0.33029169, 0.30081509, 0.31209309, 0.32962526,\n",
       "       0.307992  , 0.30286564, 0.3312657 , 0.31896242, 0.32849746,\n",
       "       0.24027272, 0.23504383, 0.20141488, 0.19480187, 0.15332957,\n",
       "       0.1624545 , 0.15942995, 0.15051007, 0.15056134, 0.14738299,\n",
       "       0.14640898, 0.14881837, 0.13477213, 0.13841185, 0.12672374,\n",
       "       0.11836777, 0.11529195, 0.12518583, 0.12831291, 0.1286205 ,\n",
       "       0.12262265, 0.11759881, 0.11529195, 0.11149844, 0.11083201,\n",
       "       0.11375404, 0.11180602, 0.10934536, 0.11149844, 0.10334752,\n",
       "       0.10811504, 0.10175834, 0.1002717 , 0.10037422, 0.09565797,\n",
       "       0.09273594, 0.09904137, 0.10955042, 0.11401036, 0.12016199,\n",
       "       0.12380171, 0.12252012, 0.11170349, 0.1104219 , 0.11442046,\n",
       "       0.11641975, 0.1160609 , 0.11447173, 0.12016199, 0.11313887,\n",
       "       0.11016558, 0.10908904, 0.10042549, 0.10755114, 0.10934536,\n",
       "       0.11180602, 0.11898293, 0.11857282, 0.12544215, 0.1279028 ,\n",
       "       0.12687753, 0.12615984, 0.12759522, 0.12400677, 0.1228277 ,\n",
       "       0.12287897, 0.13390065, 0.1336956 , 0.16363357, 0.16240324,\n",
       "       0.16173681, 0.15696929, 0.15896858, 0.16025017, 0.15702056,\n",
       "       0.15189419, 0.15250936, 0.15522633, 0.15153535, 0.15471369,\n",
       "       0.16317219, 0.1669657 , 0.17040037, 0.17373251, 0.16840109,\n",
       "       0.16224945, 0.16081407, 0.17045163, 0.1630184 , 0.15220177,\n",
       "       0.14266674, 0.13994976, 0.13492592, 0.13559235, 0.13559235,\n",
       "       0.13543856, 0.13226021, 0.1320039 , 0.12851797, 0.12979956,\n",
       "       0.12426309, 0.13118368, 0.14963859, 0.13800174, 0.12892808,\n",
       "       0.14302558, 0.13231148, 0.13159379, 0.11918798, 0.11765007,\n",
       "       0.10765366, 0.10555185, 0.10919157, 0.11006305, 0.1183165 ,\n",
       "       0.12241759, 0.11790639, 0.11165223, 0.11021685, 0.11078075,\n",
       "       0.1143692 , 0.11780387, 0.12662121, 0.11995694, 0.11929051,\n",
       "       0.10257856, 0.13502845, 0.13067104, 0.12436561, 0.12431435,\n",
       "       0.12154611, 0.12431435, 0.11821397, 0.11334393, 0.1126775 ,\n",
       "       0.10155329, 0.11067822, 0.1239555 , 0.11949557, 0.12554468,\n",
       "       0.12354539, 0.12231507, 0.13682268, 0.1353873 , 0.13436202,\n",
       "       0.13836059, 0.13195263, 0.13815553, 0.1421541 , 0.15655918,\n",
       "       0.16609422, 0.16327472, 0.14538371, 0.1398985 , 0.15035628,\n",
       "       0.13856564, 0.14097503, 0.12098221, 0.12851797, 0.14082124,\n",
       "       0.14728046, 0.14630645, 0.15056134, 0.14241042, 0.14200031,\n",
       "       0.14599887, 0.14205157, 0.15322705, 0.13267032, 0.14317937,\n",
       "       0.14815195, 0.13892449, 0.09545291, 0.0781258 , 0.08232942,\n",
       "       0.08304711, 0.09499154, 0.10544933, 0.10673092, 0.09063413,\n",
       "       0.07397345, 0.06095248, 0.07566515, 0.060081  , 0.05751781,\n",
       "       0.0525965 , 0.03501307, 0.01194443, 0.01050905, 0.00912493,\n",
       "       0.00686933, 0.00492131, 0.        ])"
      ]
     },
     "execution_count": 131,
     "metadata": {},
     "output_type": "execute_result"
    }
   ],
   "source": [
    "y_train"
   ]
  },
  {
   "cell_type": "code",
   "execution_count": 132,
   "metadata": {
    "id": "f8-jBHzMj2qo"
   },
   "outputs": [],
   "source": [
    "from keras.models import Sequential\n",
    "from keras.layers import SimpleRNN, Dense"
   ]
  },
  {
   "cell_type": "code",
   "execution_count": 133,
   "metadata": {
    "id": "T8RnkL21rykE"
   },
   "outputs": [],
   "source": [
    "model=Sequential()\n",
    "model.add(SimpleRNN(units=50, return_sequences=True, input_shape=(X_train.shape[1],1)))\n",
    "model.add(SimpleRNN(units=50, return_sequences=False))\n",
    "model.add(Dense(units=25))\n",
    "model.add(Dense(units=1))\n"
   ]
  },
  {
   "cell_type": "code",
   "execution_count": 134,
   "metadata": {
    "colab": {
     "base_uri": "https://localhost:8080/",
     "height": 272
    },
    "id": "pSdAk3eUwMVn",
    "outputId": "54262a23-9e7a-44a6-c814-e45797f1f2d3"
   },
   "outputs": [
    {
     "name": "stdout",
     "output_type": "stream",
     "text": [
      "Model: \"sequential_1\"\n",
      "_________________________________________________________________\n",
      " Layer (type)                Output Shape              Param #   \n",
      "=================================================================\n",
      " simple_rnn_2 (SimpleRNN)    (None, 60, 50)            2600      \n",
      "                                                                 \n",
      " simple_rnn_3 (SimpleRNN)    (None, 50)                5050      \n",
      "                                                                 \n",
      " dense_2 (Dense)             (None, 25)                1275      \n",
      "                                                                 \n",
      " dense_3 (Dense)             (None, 1)                 26        \n",
      "                                                                 \n",
      "=================================================================\n",
      "Total params: 8951 (34.96 KB)\n",
      "Trainable params: 8951 (34.96 KB)\n",
      "Non-trainable params: 0 (0.00 Byte)\n",
      "_________________________________________________________________\n"
     ]
    }
   ],
   "source": [
    "model.summary()"
   ]
  },
  {
   "cell_type": "code",
   "execution_count": 135,
   "metadata": {
    "colab": {
     "base_uri": "https://localhost:8080/"
    },
    "id": "v85qppOdwRSG",
    "outputId": "991a5dcf-45a7-4efe-936a-b23bfcf8397f"
   },
   "outputs": [
    {
     "name": "stdout",
     "output_type": "stream",
     "text": [
      "Epoch 1/5\n",
      "898/898 [==============================] - 89s 86ms/step - loss: 0.0044 - mean_squared_error: 0.0044\n",
      "Epoch 2/5\n",
      "898/898 [==============================] - 62s 69ms/step - loss: 9.1033e-04 - mean_squared_error: 9.1033e-04\n",
      "Epoch 3/5\n",
      "898/898 [==============================] - 55s 61ms/step - loss: 4.7784e-04 - mean_squared_error: 4.7784e-04\n",
      "Epoch 4/5\n",
      "898/898 [==============================] - 54s 61ms/step - loss: 4.9953e-04 - mean_squared_error: 4.9953e-04\n",
      "Epoch 5/5\n",
      "898/898 [==============================] - 66s 73ms/step - loss: 4.2586e-04 - mean_squared_error: 4.2586e-04\n"
     ]
    }
   ],
   "source": [
    "model.compile(optimizer='adam', loss='mean_squared_error', metrics=['mean_squared_error'])\n",
    "history= model.fit(X_train, y_train, epochs=5, batch_size=1, verbose=True)"
   ]
  },
  {
   "cell_type": "code",
   "execution_count": 136,
   "metadata": {
    "id": "3DL4x0vWw3d2"
   },
   "outputs": [],
   "source": [
    "test_data=scaled_data[-(sequence_length+40):,:]\n",
    "X_test, y_test=[], data['Price'][-40:].values\n",
    "\n",
    "for i in range(sequence_length, len(test_data)):\n",
    "    X_test.append(test_data[i-sequence_length:i,0])\n",
    "\n",
    "X_test=np.array(X_test)\n",
    "X_test=np.reshape(X_test, (X_test.shape[0], X_test.shape[1], 1))"
   ]
  },
  {
   "cell_type": "code",
   "execution_count": 29,
   "metadata": {},
   "outputs": [
    {
     "data": {
      "text/plain": [
       "(100, 1)"
      ]
     },
     "execution_count": 29,
     "metadata": {},
     "output_type": "execute_result"
    }
   ],
   "source": [
    "test_data.shape"
   ]
  },
  {
   "cell_type": "code",
   "execution_count": 30,
   "metadata": {
    "colab": {
     "base_uri": "https://localhost:8080/"
    },
    "id": "KW6ZUm3LymzQ",
    "outputId": "66e4a737-baf2-4d70-ee98-8074f0fa9823"
   },
   "outputs": [
    {
     "data": {
      "text/plain": [
       "(40, 60, 1)"
      ]
     },
     "execution_count": 30,
     "metadata": {},
     "output_type": "execute_result"
    }
   ],
   "source": [
    "X_test.shape"
   ]
  },
  {
   "cell_type": "code",
   "execution_count": 31,
   "metadata": {},
   "outputs": [
    {
     "data": {
      "text/plain": [
       "(40,)"
      ]
     },
     "execution_count": 31,
     "metadata": {},
     "output_type": "execute_result"
    }
   ],
   "source": [
    "y_test.shape"
   ]
  },
  {
   "cell_type": "code",
   "execution_count": 32,
   "metadata": {
    "colab": {
     "base_uri": "https://localhost:8080/"
    },
    "id": "jDpRu6x2yqTp",
    "outputId": "62cc2c45-c048-4d31-8538-8a2fa9826a70"
   },
   "outputs": [
    {
     "name": "stdout",
     "output_type": "stream",
     "text": [
      "2/2 [==============================] - 1s 34ms/step\n"
     ]
    }
   ],
   "source": [
    "predictions=model.predict(X_test)\n",
    "predictions=scaler.inverse_transform(predictions)"
   ]
  },
  {
   "cell_type": "code",
   "execution_count": 33,
   "metadata": {
    "colab": {
     "base_uri": "https://localhost:8080/"
    },
    "id": "vCs2v-hQy2-G",
    "outputId": "698784b8-466a-481c-ec9a-d96479157999"
   },
   "outputs": [],
   "source": [
    "predictions=predictions.reshape(-1)"
   ]
  },
  {
   "cell_type": "code",
   "execution_count": 34,
   "metadata": {
    "colab": {
     "base_uri": "https://localhost:8080/"
    },
    "id": "2AP7JvpCzBx_",
    "outputId": "ab6b7ad0-b74d-4eba-c953-de21861cc868"
   },
   "outputs": [
    {
     "data": {
      "text/plain": [
       "array([322.95, 333.15, 321.65, 324.  , 304.5 , 311.85, 323.85, 330.15,\n",
       "       329.2 , 333.35, 325.4 , 325.  , 328.9 , 325.05, 335.95, 315.9 ,\n",
       "       326.15, 331.  , 322.  , 279.6 , 262.7 , 266.8 , 267.5 , 279.15,\n",
       "       289.35, 290.6 , 274.9 , 258.65, 245.95, 260.3 , 245.1 , 242.6 ,\n",
       "       237.8 , 220.65, 198.15, 196.75, 195.4 , 193.2 , 191.3 , 186.5 ])"
      ]
     },
     "execution_count": 34,
     "metadata": {},
     "output_type": "execute_result"
    }
   ],
   "source": [
    "y_test[-40:]"
   ]
  },
  {
   "cell_type": "code",
   "execution_count": 35,
   "metadata": {
    "colab": {
     "base_uri": "https://localhost:8080/",
     "height": 445
    },
    "id": "G0-aIpsazfdO",
    "outputId": "07533e31-8b58-406f-8e7e-fe801ca56061"
   },
   "outputs": [
    {
     "data": {
      "image/png": "[encoded data removed]",
      "text/plain": [
       "<Figure size 1000x500 with 1 Axes>"
      ]
     },
     "metadata": {},
     "output_type": "display_data"
    }
   ],
   "source": [
    "plt.figure(figsize=(10,5))\n",
    "train_len=len(y_train)\n",
    "sns.lineplot( x=data.index[-40:], y=y_test, label='Actual Price')\n",
    "sns.lineplot( x=data.index[-40:], y=predictions, label='Predicted Price')\n",
    "plt.legend()\n",
    "plt.show()"
   ]
  },
  {
   "cell_type": "code",
   "execution_count": 36,
   "metadata": {
    "colab": {
     "base_uri": "https://localhost:8080/"
    },
    "id": "VJO4Sf_o0Xj5",
    "outputId": "f1fb5625-8f6a-4ff6-e6a3-f898945f14ba"
   },
   "outputs": [
    {
     "name": "stdout",
     "output_type": "stream",
     "text": [
      "0.4368500518798804\n"
     ]
    }
   ],
   "source": [
    "rmse=np.sqrt(np.mean(y_test-predictions.squeeze())**2)\n",
    "print(rmse)"
   ]
  },
  {
   "cell_type": "code",
   "execution_count": 40,
   "metadata": {},
   "outputs": [
    {
     "data": {
      "text/plain": [
       "(100, 1)"
      ]
     },
     "execution_count": 40,
     "metadata": {},
     "output_type": "execute_result"
    }
   ],
   "source": [
    "test_data.shape"
   ]
  },
  {
   "cell_type": "code",
   "execution_count": 41,
   "metadata": {},
   "outputs": [],
   "source": [
    "last_60_days = scaled_data[-60:]"
   ]
  },
  {
   "cell_type": "code",
   "execution_count": 42,
   "metadata": {},
   "outputs": [],
   "source": [
    "last_60_days = last_60_days.reshape((1, 60, 1))"
   ]
  },
  {
   "cell_type": "code",
   "execution_count": 43,
   "metadata": {},
   "outputs": [
    {
     "name": "stdout",
     "output_type": "stream",
     "text": [
      "1/1 [==============================] - 0s 78ms/step\n"
     ]
    }
   ],
   "source": [
    "predicted_price_scaled = model.predict(last_60_days)"
   ]
  },
  {
   "cell_type": "code",
   "execution_count": 44,
   "metadata": {},
   "outputs": [],
   "source": [
    "predicted_price = scaler.inverse_transform(predicted_price_scaled)"
   ]
  },
  {
   "cell_type": "code",
   "execution_count": 45,
   "metadata": {},
   "outputs": [
    {
     "name": "stdout",
     "output_type": "stream",
     "text": [
      "Predicted stock price for tomorrow: 176.68973\n"
     ]
    }
   ],
   "source": [
    "print(\"Predicted stock price for tomorrow:\", predicted_price[0][0])"
   ]
  },
  {
   "cell_type": "code",
   "execution_count": null,
   "metadata": {},
   "outputs": [],
   "source": []
  }
 ],
 "metadata": {
  "colab": {
   "provenance": []
  },
  "kernelspec": {
   "display_name": "Python 3 (ipykernel)",
   "language": "python",
   "name": "python3"
  },
  "language_info": {
   "codemirror_mode": {
    "name": "ipython",
    "version": 3
   },
   "file_extension": ".py",
   "mimetype": "text/x-python",
   "name": "python",
   "nbconvert_exporter": "python",
   "pygments_lexer": "ipython3",
   "version": "3.11.9"
  }
 },
 "nbformat": 4,
 "nbformat_minor": 4
}
